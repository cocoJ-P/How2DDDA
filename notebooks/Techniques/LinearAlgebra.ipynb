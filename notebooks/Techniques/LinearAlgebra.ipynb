{
 "cells": [
  {
   "cell_type": "markdown",
   "id": "ecfb11b4-09f9-4aa1-9418-968a0c5ad528",
   "metadata": {},
   "source": [
    "# 💡 MosaicPi_Guide: **\"Linear Algebra in MosaicPi\"**\n",
    "\n",
    "> All code and examples are shared to help researchers, students, and engineers understand the reasoning behind DDDA — and to make it easy to apply dimensional analysis to your own data.  \n",
    "> This notebook serves as an entry-level guide for teaching, validating physical models, and enabling domain-specific knowledge engineering through data-driven dimensional reasoning.\n",
    "\n",
    "---\n",
    "\n",
    "## 🎯 What You'll Learn\n",
    "\n",
    "**MosaicPi中的线性代数应用**\n",
    "\n",
    "In this notebook, we will walk through the theoretical and computational foundation of **dimensional analysis**, with a focus on the **Buckingham Pi theorem**. You will learn:\n",
    "\n",
    "1. **物理模型，隐函数，流形**  \n",
    "   Understand why we reduce variables and how dimensional consistency enables model generalization.\n",
    "\n",
    "2. **变量组合**  \n",
    "   Encode physical units of input quantities using base units and build the D-matrix.\n",
    "\n",
    "3. **变量组合评估**  \n",
    "   Discover dimensionless groups by solving linear algebraic equations on the D-matrix.\n",
    "\n",
    "4. **显式化策略可视化**  \n",
    "   Learn to assess whether derived groups make physical and computational sense.\n",
    "\n",
    "5. **不确定性定量化**  \n",
    "   Set the stage for further steps in the DDDA pipeline including Pi-group selection, uncertainty quantification, and regime detection.\n",
    "\n",
    "---\n",
    "\n",
    "## 👤 Author\n",
    "\n",
    "- **Name**: Jiashun Pang  \n",
    "- **Created**: August 2025  \n",
    "- **Affiliation**: DDDA Project, open research notebook  \n",
    "- **Notebook Focus**:  \n",
    "  A hands-on exploration of dimensional analysis — from aggregated raw quantities to symbolic Pi-group discovery and preparation for downstream DDDA tasks.\n",
    "\n",
    "---\n",
    "\n",
    "📌 *This notebook is designed to be accessible for learners new to dimensional analysis, while also laying the foundation for advanced applications in the full MosaicPi pipeline.*\n"
   ]
  },
  {
   "cell_type": "code",
   "execution_count": null,
   "id": "183c0604-f606-41fa-bf45-a60f9e5830ca",
   "metadata": {},
   "outputs": [],
   "source": []
  },
  {
   "cell_type": "code",
   "execution_count": null,
   "id": "0afd0e2a-a4a0-4952-a022-3589ba9a737e",
   "metadata": {},
   "outputs": [],
   "source": []
  }
 ],
 "metadata": {
  "kernelspec": {
   "display_name": "Python 3 (ipykernel)",
   "language": "python",
   "name": "python3"
  },
  "language_info": {
   "codemirror_mode": {
    "name": "ipython",
    "version": 3
   },
   "file_extension": ".py",
   "mimetype": "text/x-python",
   "name": "python",
   "nbconvert_exporter": "python",
   "pygments_lexer": "ipython3",
   "version": "3.11.13"
  }
 },
 "nbformat": 4,
 "nbformat_minor": 5
}
